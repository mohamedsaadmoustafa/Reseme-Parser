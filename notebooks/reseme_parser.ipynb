{
 "cells": [
  {
   "cell_type": "code",
   "source": [
    "!pip install pdfminer.six\n",
    "!pip install docx2txt\n",
    "!pip install urlextract\n",
    "!pip install gender_guesser"
   ],
   "metadata": {
    "id": "qTLqjJG6K_Dq",
    "colab": {
     "base_uri": "https://localhost:8080/"
    },
    "outputId": "99165d89-4ff9-4b3e-8129-413fd99c13d8"
   },
   "execution_count": 1,
   "outputs": [
    {
     "output_type": "stream",
     "name": "stdout",
     "text": [
      "Looking in indexes: https://pypi.org/simple, https://us-python.pkg.dev/colab-wheels/public/simple/\n",
      "Collecting pdfminer.six\n",
      "  Downloading pdfminer.six-20220524-py3-none-any.whl (5.6 MB)\n",
      "\u001B[K     |████████████████████████████████| 5.6 MB 5.0 MB/s \n",
      "\u001B[?25hCollecting cryptography>=36.0.0\n",
      "  Downloading cryptography-38.0.1-cp36-abi3-manylinux_2_24_x86_64.whl (4.0 MB)\n",
      "\u001B[K     |████████████████████████████████| 4.0 MB 44.3 MB/s \n",
      "\u001B[?25hRequirement already satisfied: charset-normalizer>=2.0.0 in /usr/local/lib/python3.7/dist-packages (from pdfminer.six) (2.1.1)\n",
      "Requirement already satisfied: cffi>=1.12 in /usr/local/lib/python3.7/dist-packages (from cryptography>=36.0.0->pdfminer.six) (1.15.1)\n",
      "Requirement already satisfied: pycparser in /usr/local/lib/python3.7/dist-packages (from cffi>=1.12->cryptography>=36.0.0->pdfminer.six) (2.21)\n",
      "Installing collected packages: cryptography, pdfminer.six\n",
      "Successfully installed cryptography-38.0.1 pdfminer.six-20220524\n",
      "Looking in indexes: https://pypi.org/simple, https://us-python.pkg.dev/colab-wheels/public/simple/\n",
      "Collecting docx2txt\n",
      "  Downloading docx2txt-0.8.tar.gz (2.8 kB)\n",
      "Building wheels for collected packages: docx2txt\n",
      "  Building wheel for docx2txt (setup.py) ... \u001B[?25l\u001B[?25hdone\n",
      "  Created wheel for docx2txt: filename=docx2txt-0.8-py3-none-any.whl size=3980 sha256=d74d7ef7a061dffaa2a9c22d7a979b135ad8188e0565e7853039eaa665652d94\n",
      "  Stored in directory: /root/.cache/pip/wheels/b7/20/b2/473e3aea9a0c0d3e7b2f7bd81d06d0794fec12752733d1f3a8\n",
      "Successfully built docx2txt\n",
      "Installing collected packages: docx2txt\n",
      "Successfully installed docx2txt-0.8\n",
      "Looking in indexes: https://pypi.org/simple, https://us-python.pkg.dev/colab-wheels/public/simple/\n",
      "Collecting urlextract\n",
      "  Downloading urlextract-1.6.0-py3-none-any.whl (20 kB)\n",
      "Collecting uritools\n",
      "  Downloading uritools-4.0.0-py3-none-any.whl (10 kB)\n",
      "Collecting platformdirs\n",
      "  Downloading platformdirs-2.5.2-py3-none-any.whl (14 kB)\n",
      "Requirement already satisfied: filelock in /usr/local/lib/python3.7/dist-packages (from urlextract) (3.8.0)\n",
      "Requirement already satisfied: idna in /usr/local/lib/python3.7/dist-packages (from urlextract) (2.10)\n",
      "Installing collected packages: uritools, platformdirs, urlextract\n",
      "Successfully installed platformdirs-2.5.2 uritools-4.0.0 urlextract-1.6.0\n",
      "Looking in indexes: https://pypi.org/simple, https://us-python.pkg.dev/colab-wheels/public/simple/\n",
      "Collecting gender_guesser\n",
      "  Downloading gender_guesser-0.4.0-py2.py3-none-any.whl (379 kB)\n",
      "\u001B[K     |████████████████████████████████| 379 kB 5.1 MB/s \n",
      "\u001B[?25hInstalling collected packages: gender-guesser\n",
      "Successfully installed gender-guesser-0.4.0\n"
     ]
    }
   ]
  },
  {
   "cell_type": "code",
   "execution_count": 2,
   "outputs": [
    {
     "output_type": "stream",
     "name": "stderr",
     "text": [
      "[nltk_data] Downloading package punkt to /root/nltk_data...\n",
      "[nltk_data]   Unzipping tokenizers/punkt.zip.\n",
      "[nltk_data] Downloading package averaged_perceptron_tagger to\n",
      "[nltk_data]     /root/nltk_data...\n",
      "[nltk_data]   Unzipping taggers/averaged_perceptron_tagger.zip.\n",
      "[nltk_data] Downloading package maxent_ne_chunker to\n",
      "[nltk_data]     /root/nltk_data...\n",
      "[nltk_data]   Unzipping chunkers/maxent_ne_chunker.zip.\n",
      "[nltk_data] Downloading package words to /root/nltk_data...\n",
      "[nltk_data]   Unzipping corpora/words.zip.\n",
      "[nltk_data] Downloading package stopwords to /root/nltk_data...\n",
      "[nltk_data]   Unzipping corpora/stopwords.zip.\n",
      "[nltk_data] Downloading package names to /root/nltk_data...\n",
      "[nltk_data]   Unzipping corpora/names.zip.\n",
      "[nltk_data] Downloading package wordnet to /root/nltk_data...\n",
      "[nltk_data] Downloading package omw-1.4 to /root/nltk_data...\n"
     ]
    }
   ],
   "source": [
    "from pdfminer.high_level import extract_text\n",
    "import docx2txt\n",
    "from urlextract import URLExtract\n",
    "\n",
    "\n",
    "import gender_guesser.detector as gender\n",
    "import os\n",
    "import re\n",
    "from wordcloud import WordCloud, STOPWORDS, ImageColorGenerator\n",
    "import matplotlib.pyplot as plt\n",
    "\n",
    "import random\n",
    "import requests\n",
    "import urllib.request \n",
    "from bs4 import BeautifulSoup\n",
    "import numpy as np\n",
    "import pandas as pd\n",
    "import string\n",
    "\n",
    "import nltk\n",
    "from nltk.corpus import names, stopwords\n",
    "import spacy\n",
    "\n",
    "nltk.download('punkt')\n",
    "nltk.download('averaged_perceptron_tagger')\n",
    "nltk.download('maxent_ne_chunker')\n",
    "nltk.download('words')\n",
    "nltk.download('stopwords')\n",
    "nltk.download('names')\n",
    "nltk.download('wordnet')\n",
    "nltk.download('omw-1.4')\n",
    "\n",
    "\n",
    "# load pre-trained model\n",
    "nlp = spacy.load('en_core_web_sm')\n",
    "# Grad all general stop words\n",
    "STOPWORDS = set(stopwords.words('english'))"
   ],
   "metadata": {
    "id": "LMbka-tS8E4j",
    "colab": {
     "base_uri": "https://localhost:8080/"
    },
    "outputId": "4ad51574-6f58-4c87-8bbd-5761adb4bfc8"
   }
  },
  {
   "cell_type": "code",
   "source": [
    "#EMAIL_REG = re.compile(r'[a-z0-9\\.\\-+_]+@[a-z0-9\\.\\-+_]+\\.[a-z]+')\n",
    "EMAIL_REG = r'[\\w.+-]+@[\\w-]+\\.[\\w.-]+'\n",
    "PHONE_REG = re.compile(r'[\\+\\(]?[1-9][0-9 .\\-\\(\\)]{8,}[0-9]')\n",
    "LINKEDON_URL_REGEX = r'(linkedin.com/in/\\S+)'\n",
    "URL_REGEX = r\"\"\"(?i)\\b((?:https?:(?:/{1,3}|[a-z0-9%])|[a-z0-9.\\-]+[.](?:com|net|org|edu|gov|mil|aero|asia|biz|cat|coop|info|int|jobs|mobi|museum|name|post|pro|tel|travel|xxx|ac|ad|ae|af|ag|ai|al|am|an|ao|aq|ar|as|at|au|aw|ax|az|ba|bb|bd|be|bf|bg|bh|bi|bj|bm|bn|bo|br|bs|bt|bv|bw|by|bz|ca|cc|cd|cf|cg|ch|ci|ck|cl|cm|cn|co|cr|cs|cu|cv|cx|cy|cz|dd|de|dj|dk|dm|do|dz|ec|ee|eg|eh|er|es|et|eu|fi|fj|fk|fm|fo|fr|ga|gb|gd|ge|gf|gg|gh|gi|gl|gm|gn|gp|gq|gr|gs|gt|gu|gw|gy|hk|hm|hn|hr|ht|hu|id|ie|il|im|in|io|iq|ir|is|it|je|jm|jo|jp|ke|kg|kh|ki|km|kn|kp|kr|kw|ky|kz|la|lb|lc|li|lk|lr|ls|lt|lu|lv|ly|ma|mc|md|me|mg|mh|mk|ml|mm|mn|mo|mp|mq|mr|ms|mt|mu|mv|mw|mx|my|mz|na|nc|ne|nf|ng|ni|nl|no|np|nr|nu|nz|om|pa|pe|pf|pg|ph|pk|pl|pm|pn|pr|ps|pt|pw|py|qa|re|ro|rs|ru|rw|sa|sb|sc|sd|se|sg|sh|si|sj|Ja|sk|sl|sm|sn|so|sr|ss|st|su|sv|sx|sy|sz|tc|td|tf|tg|th|tj|tk|tl|tm|tn|to|tp|tr|tt|tv|tw|tz|ua|ug|uk|us|uy|uz|va|vc|ve|vg|vi|vn|vu|wf|ws|ye|yt|yu|za|zm|zw)/)(?:[^\\s()<>{}\\[\\]]+|\\([^\\s()]*?\\([^\\s()]+\\)[^\\s()]*?\\)|\\([^\\s]+?\\))+(?:\\([^\\s()]*?\\([^\\s()]+\\)[^\\s()]*?\\)|\\([^\\s]+?\\)|[^\\s`!()\\[\\]{};:'\".,<>?«»“”‘’])|(?:(?<!@)[a-z0-9]+(?:[.\\-][a-z0-9]+)*[.](?:com|net|org|edu|gov|mil|aero|asia|biz|cat|coop|info|int|jobs|mobi|museum|name|post|pro|tel|travel|xxx|ac|ad|ae|af|ag|ai|al|am|an|ao|aq|ar|as|at|au|aw|ax|az|ba|bb|bd|be|bf|bg|bh|bi|bj|bm|bn|bo|br|bs|bt|bv|bw|by|bz|ca|cc|cd|cf|cg|ch|ci|ck|cl|cm|cn|co|cr|cs|cu|cv|cx|cy|cz|dd|de|dj|dk|dm|do|dz|ec|ee|eg|eh|er|es|et|eu|fi|fj|fk|fm|fo|fr|ga|gb|gd|ge|gf|gg|gh|gi|gl|gm|gn|gp|gq|gr|gs|gt|gu|gw|gy|hk|hm|hn|hr|ht|hu|id|ie|il|im|in|io|iq|ir|is|it|je|jm|jo|jp|ke|kg|kh|ki|km|kn|kp|kr|kw|ky|kz|la|lb|lc|li|lk|lr|ls|lt|lu|lv|ly|ma|mc|md|me|mg|mh|mk|ml|mm|mn|mo|mp|mq|mr|ms|mt|mu|mv|mw|mx|my|mz|na|nc|ne|nf|ng|ni|nl|no|np|nr|nu|nz|om|pa|pe|pf|pg|ph|pk|pl|pm|pn|pr|ps|pt|pw|py|qa|re|ro|rs|ru|rw|sa|sb|sc|sd|se|sg|sh|si|sj|Ja|sk|sl|sm|sn|so|sr|ss|st|su|sv|sx|sy|sz|tc|td|tf|tg|th|tj|tk|tl|tm|tn|to|tp|tr|tt|tv|tw|tz|ua|ug|uk|us|uy|uz|va|vc|ve|vg|vi|vn|vu|wf|ws|ye|yt|yu|za|zm|zw)\\b/?(?!@)))\"\"\"\n",
    "ZIP_CODE_REGEX = r'\\b\\d{5}(?:[-\\s]\\d{4})?\\b'\n",
    "    \n",
    "# you may read the database from a csv file or some other database\n",
    "# skill extracted from job describtion\n",
    "SKILLS_DB = [\n",
    "    'python', 'c','r', 'c++','java','hadoop','scala','flask','pandas','spark','scikit-learn',\n",
    "    'numpy','php','sql','mysql','css','mongdb','nltk','fastai' , 'keras', 'pytorch','tensorflow',\n",
    "    'linux','Ruby','JavaScript','django','react','reactjs','ai','ui','tableau'\n",
    "]\n",
    "\n",
    "# Grad all general stop words\n",
    "STOPWORDS = set(stopwords.words('english'))"
   ],
   "metadata": {
    "id": "nuqacC2aIliC"
   },
   "execution_count": 3,
   "outputs": []
  },
  {
   "cell_type": "code",
   "source": [
    "EDUCATION_DEGREES_1 = pd.read_html(\"https://www.mc.edu/offices/marketing/branding/editorial-style-guide/abbreviations\")[0]\n",
    "EDUCATION_DEGREES_1 = EDUCATION_DEGREES_1.iloc[1: , :] # remove first row\n",
    "EDUCATION_DEGREES_1.rename(columns={0: 'Degree', 1: 'Abbreviation'}, inplace=True)\n",
    "EDUCATION_DEGREES_1 = EDUCATION_DEGREES_1.Abbreviation.apply(lambda abbv: re.sub(r'[?|$|.|!|,]', r'', abbv)).tolist()\n",
    "EDUCATION_DEGREES_1"
   ],
   "metadata": {
    "colab": {
     "base_uri": "https://localhost:8080/"
    },
    "id": "bkoY59_vOlpU",
    "outputId": "eefa5296-b42a-418b-c241-cb10ad916793"
   },
   "execution_count": 4,
   "outputs": [
    {
     "output_type": "execute_result",
     "data": {
      "text/plain": [
       "['BA',\n",
       " 'BFA',\n",
       " 'BS',\n",
       " 'BSBA',\n",
       " 'BSEd',\n",
       " 'BSN',\n",
       " 'BSW',\n",
       " 'MA',\n",
       " 'MAT',\n",
       " 'MBA',\n",
       " 'MCS',\n",
       " 'MEd',\n",
       " 'MFA',\n",
       " 'MHSA',\n",
       " 'MLS',\n",
       " 'MMus',\n",
       " 'MSM',\n",
       " 'MSS',\n",
       " 'MS',\n",
       " 'EdD',\n",
       " 'DPC',\n",
       " 'EdS']"
      ]
     },
     "metadata": {},
     "execution_count": 4
    }
   ]
  },
  {
   "cell_type": "code",
   "source": [
    "URL = \"https://abbreviations.yourdictionary.com/articles/degree-abbreviations.html\"\n",
    "r = requests.get(URL)\n",
    "soup = BeautifulSoup(r.content, \"html.parser\") \n",
    "\n",
    "sections = soup.findAll('section', attrs = {'class':'article-body'}) \n",
    "len(sections)\n",
    "\n",
    "EDUCATION_DEGREES_2 = {}\n",
    "\n",
    "def removesuffix(string, suffix):\n",
    "    if string.endswith(suffix):\n",
    "        return string[:-len(suffix)]\n",
    "    return string\n",
    "\n",
    "def li_tag_stripe(li_tag, split_at):\n",
    "    li_tag = li_tag.text.strip().split(split_at)\n",
    "    abbv, degree = li_tag\n",
    "    #abbv = abbv.removesuffix(' - ') # removesuffix is a 3.9+ method in str\n",
    "    abbv = removesuffix(abbv, ' - ') \n",
    "    abbv = re.sub(r'[?|$|.|!|,]', r'', abbv)\n",
    "    two_abbv = abbv.split(' or ')\n",
    "    if len(two_abbv) > 1: \n",
    "        for ab in two_abbv:\n",
    "            EDUCATION_DEGREES_2[ab] = split_at + degree\n",
    "\n",
    "    if len(two_abbv) == 1:\n",
    "        EDUCATION_DEGREES_2[abbv] = split_at + degree\n",
    "\n",
    "for li_tag in sections[4].findAll('li'):\n",
    "    li_tag_stripe(li_tag=li_tag, split_at='Associate')\n",
    "    \n",
    "\n",
    "for li_tag in sections[5].findAll('li'):\n",
    "    li_tag_stripe(li_tag=li_tag, split_at='Bach')\n",
    "\n",
    "#pd.DataFrame(EDUCATION_DEGREES.items()).head()\n",
    "EDUCATION_DEGREES_2 = list(EDUCATION_DEGREES_2.keys())\n",
    "EDUCATION_DEGREES = list(set(EDUCATION_DEGREES_1 + EDUCATION_DEGREES_2))\n",
    "\n",
    "# save\n",
    "EDUCATION_DEGREES"
   ],
   "metadata": {
    "id": "OgB-V_PzQl8N",
    "colab": {
     "base_uri": "https://localhost:8080/"
    },
    "outputId": "4587f96e-f72b-4453-dad8-b4c2ad365a01"
   },
   "execution_count": 5,
   "outputs": [
    {
     "output_type": "execute_result",
     "data": {
      "text/plain": [
       "['BLA',\n",
       " 'BMEd',\n",
       " 'MAT',\n",
       " 'MHSA',\n",
       " 'BURP',\n",
       " 'BAcy',\n",
       " 'BSET',\n",
       " 'BSc(IT)',\n",
       " 'BA(Econ)',\n",
       " 'SB',\n",
       " 'EdS',\n",
       " 'BPhil',\n",
       " 'MSS',\n",
       " 'BSocSc',\n",
       " 'BAM',\n",
       " 'BSEng',\n",
       " 'AE',\n",
       " 'BPAPM',\n",
       " 'BSMicr',\n",
       " 'BMus',\n",
       " 'APT',\n",
       " 'BAPSY',\n",
       " 'ABA',\n",
       " 'BSW',\n",
       " 'BAT',\n",
       " 'BAE',\n",
       " 'BAJ',\n",
       " 'BCA',\n",
       " 'AAS',\n",
       " 'AAT',\n",
       " 'BDes',\n",
       " 'BKin',\n",
       " 'AEET',\n",
       " 'AA',\n",
       " 'BIS',\n",
       " 'BSAE',\n",
       " 'BCom',\n",
       " 'BLArch',\n",
       " 'BGS',\n",
       " 'BTS',\n",
       " 'BSc(Econ)',\n",
       " 'MEd',\n",
       " 'BMathSc',\n",
       " 'AB',\n",
       " 'BSCS',\n",
       " 'BA',\n",
       " 'BLIS',\n",
       " 'AAA',\n",
       " 'BABA',\n",
       " 'BAvn',\n",
       " 'BSN',\n",
       " 'BLS',\n",
       " 'BAg',\n",
       " 'BComp',\n",
       " 'MCS',\n",
       " 'BHS',\n",
       " 'BSE',\n",
       " 'MBA',\n",
       " 'ABS',\n",
       " 'BS',\n",
       " 'BEcon',\n",
       " 'BSChem',\n",
       " 'BBIS',\n",
       " 'MMus',\n",
       " 'AEngT',\n",
       " 'AA-T',\n",
       " 'MLS',\n",
       " 'BCompt',\n",
       " 'BCompSc',\n",
       " 'BM',\n",
       " 'BF&TV',\n",
       " 'BPlan',\n",
       " 'BTech',\n",
       " 'BIBE',\n",
       " 'BEng',\n",
       " 'BFA',\n",
       " 'AT',\n",
       " 'APE',\n",
       " 'BACom',\n",
       " 'BAcc',\n",
       " 'MFA',\n",
       " 'BASc',\n",
       " 'BCE',\n",
       " 'BSF',\n",
       " 'BSPH',\n",
       " 'BInDsn',\n",
       " 'BCJ',\n",
       " 'AF',\n",
       " 'BAccSci',\n",
       " 'BSME',\n",
       " 'BHSc',\n",
       " 'APS',\n",
       " 'BEE',\n",
       " 'AS',\n",
       " 'BSc(Psych)',\n",
       " 'AOS ',\n",
       " 'BSc - Intercalculated ',\n",
       " 'AFA',\n",
       " 'BArch',\n",
       " 'MA',\n",
       " 'BSGS',\n",
       " 'BScKin',\n",
       " 'EdD',\n",
       " 'BBusSc',\n",
       " 'AAB',\n",
       " 'BPS',\n",
       " 'AIT',\n",
       " 'BAS',\n",
       " 'BCrim ',\n",
       " 'BAMus',\n",
       " 'BSBA',\n",
       " 'BAppSc(IT)',\n",
       " 'DPC',\n",
       " 'BSEd',\n",
       " 'BLib',\n",
       " 'BEc',\n",
       " 'AS-CAD',\n",
       " 'BChE',\n",
       " 'BMS',\n",
       " 'BMath',\n",
       " 'ALB',\n",
       " 'BSSW',\n",
       " 'AS-T',\n",
       " 'AEng',\n",
       " 'MS',\n",
       " 'MSM',\n",
       " 'AOT',\n",
       " 'BComm',\n",
       " 'BESc',\n",
       " 'BE',\n",
       " 'AES ',\n",
       " 'AG',\n",
       " 'BASW',\n",
       " 'BME',\n",
       " 'BBus',\n",
       " 'BBA',\n",
       " 'BAOM',\n",
       " 'BMOS',\n",
       " 'BAA',\n",
       " 'AET',\n",
       " 'ASPT',\n",
       " 'PhB',\n",
       " 'BJ']"
      ]
     },
     "metadata": {},
     "execution_count": 5
    }
   ]
  },
  {
   "cell_type": "code",
   "source": [
    "#!wget https://github.com/OmkarPathak/ResumeParser/blob/master/resume_parser/resume_parser/skills.csv"
   ],
   "metadata": {
    "id": "DkTWbYK9JujT"
   },
   "execution_count": 6,
   "outputs": []
  },
  {
   "cell_type": "markdown",
   "source": [
    "Download some resemes"
   ],
   "metadata": {
    "id": "dchJI3e0H1lh"
   }
  },
  {
   "cell_type": "code",
   "source": [
    "#resemes_url = 'https://www.beamjobs.com/resumes/data-science-resume-example-guide'\n",
    "resemes_url = 'https://www.beamjobs.com/resumes/data-engineer-resume-examples'\n",
    "\n",
    "r = requests.get(resemes_url)\n",
    "soup = BeautifulSoup(r.content, \"html.parser\") \n",
    "\n",
    "urls = soup.findAll('a', attrs = {'class':'d-block mx-auto'}, href=True)\n",
    "print(len(urls))\n",
    "\n",
    "for url in urls:\n",
    "    print( url['href'] )\n",
    "    urllib.request.urlretrieve(\n",
    "        url['href'], \n",
    "        os.path.basename(url['href'])\n",
    "    )"
   ],
   "metadata": {
    "id": "LygCI_-bwjtf",
    "colab": {
     "base_uri": "https://localhost:8080/"
    },
    "outputId": "c92e9c07-f53d-48a0-c87c-299eedbc3599"
   },
   "execution_count": 7,
   "outputs": [
    {
     "output_type": "stream",
     "name": "stdout",
     "text": [
      "13\n",
      "https://d25zcttzf44i59.cloudfront.net/data-engineer-resume-example.pdf\n",
      "https://d25zcttzf44i59.cloudfront.net/big-data-engineer-resume-example.pdf\n",
      "https://d25zcttzf44i59.cloudfront.net/entrylevel-data-engineer-resume-example.pdf\n",
      "https://d25zcttzf44i59.cloudfront.net/senior-data-engineer-resume-example.pdf\n",
      "https://d25zcttzf44i59.cloudfront.net/senior-business-intelligence-data-engineer-resume-example.pdf\n",
      "https://d25zcttzf44i59.cloudfront.net/mid-level-data-engineer-resume-example.pdf\n",
      "https://d25zcttzf44i59.cloudfront.net/power-and-performance-data-engineer-resume-example.pdf\n",
      "https://d25zcttzf44i59.cloudfront.net/data-engineer-analyst-resume-example.pdf\n",
      "https://d25zcttzf44i59.cloudfront.net/computer-vision-data-engineer-resume-example.pdf\n",
      "https://d25zcttzf44i59.cloudfront.net/remote-data-engineer-resume-example.pdf\n",
      "https://d25zcttzf44i59.cloudfront.net/data-and-platform-engineer-resume-example.pdf\n",
      "https://d25zcttzf44i59.cloudfront.net/data-analytics-engineer-resume-example.pdf\n",
      "https://d25zcttzf44i59.cloudfront.net/lead-data-engineer-resume-example.pdf\n"
     ]
    }
   ]
  },
  {
   "cell_type": "code",
   "source": [
    "DIR = \"/content\"\n",
    "PDF_PATH = DIR + \"/data-engineer-resume-example.pdf\"\n",
    "SKILS_PATH = DIR + \"/skills.csv\""
   ],
   "metadata": {
    "id": "q-YXyyzmMTNr"
   },
   "execution_count": 8,
   "outputs": []
  },
  {
   "cell_type": "code",
   "source": [
    "os.path.splitext(PDF_PATH)[1]"
   ],
   "metadata": {
    "colab": {
     "base_uri": "https://localhost:8080/",
     "height": 35
    },
    "id": "3a1hniWmSyUA",
    "outputId": "2e370d17-6743-4999-cde1-7570e393baa1"
   },
   "execution_count": 9,
   "outputs": [
    {
     "output_type": "execute_result",
     "data": {
      "text/plain": [
       "'.pdf'"
      ],
      "application/vnd.google.colaboratory.intrinsic+json": {
       "type": "string"
      }
     },
     "metadata": {},
     "execution_count": 9
    }
   ]
  },
  {
   "cell_type": "code",
   "source": [
    "#skills_df = pd.read_csv(SKILS_PATH)\n",
    "#skills_df"
   ],
   "metadata": {
    "id": "cxv0wHA2PkQB"
   },
   "execution_count": 10,
   "outputs": []
  },
  {
   "cell_type": "code",
   "source": [
    "#from IPython.display import IFrame\n",
    "#IFrame(\"d25zcttzf44i59.cloudfront.net/entry-level-data-scientist-resume-example.pdf\", width=1000, height=600)\n",
    "#IFrame(PDF_PATH, width=1000, height=600)"
   ],
   "metadata": {
    "id": "n9dTVoafMMT3"
   },
   "execution_count": 11,
   "outputs": []
  },
  {
   "cell_type": "code",
   "execution_count": 12,
   "outputs": [],
   "source": [
    "data = {}"
   ],
   "metadata": {
    "id": "8jfjE3028E4t"
   }
  },
  {
   "cell_type": "markdown",
   "source": [
    "# pdf to text"
   ],
   "metadata": {
    "collapsed": false,
    "id": "8gL2dE8l8E4y"
   }
  },
  {
   "cell_type": "code",
   "execution_count": 13,
   "outputs": [
    {
     "output_type": "stream",
     "name": "stdout",
     "text": [
      "/content/data-engineer-resume-example.pdf\n"
     ]
    }
   ],
   "source": [
    "def extract_text_from_pdf(pdf_path):\n",
    "    print(pdf_path)\n",
    "    return extract_text(pdf_path)\n",
    " \n",
    "#resume_text = extract_text_from_pdf('../data/interim/b.pdf')\n",
    "resume_text = extract_text_from_pdf(PDF_PATH)\n",
    "#resume_text"
   ],
   "metadata": {
    "id": "hgy4TNpt8E45",
    "colab": {
     "base_uri": "https://localhost:8080/"
    },
    "outputId": "72b19c7c-8eef-40d4-e028-3f9df0b10573"
   }
  },
  {
   "cell_type": "code",
   "source": [
    "def show_words(text):\n",
    "    stopwords = set(STOPWORDS)\n",
    "\n",
    "    x, y = np.ogrid[:300, :300]\n",
    "    mask = (x - 150) ** 2 + (y - 150) ** 2 > 130 ** 2\n",
    "    mask = 255 * mask.astype(int)\n",
    "    #plt.imshow(mask, interpolation=\"bilinear\")\n",
    "\n",
    "    wc = WordCloud(\n",
    "        stopwords = stopwords,\n",
    "        background_color = \"white\", \n",
    "        repeat = True, \n",
    "        mask = mask\n",
    "    ).generate(text)\n",
    "\n",
    "    plt.figure(figsize = (14, 10), facecolor = None)\n",
    "    plt.imshow(wc, interpolation=\"bilinear\")\n",
    "    plt.axis(\"off\")\n",
    "    plt.show()\n",
    "\n",
    "show_words(resume_text)"
   ],
   "metadata": {
    "id": "zGTCh5f1boFh",
    "colab": {
     "base_uri": "https://localhost:8080/",
     "height": 575
    },
    "outputId": "d5a0879b-0b60-4604-9248-6566aab3b333"
   },
   "execution_count": 14,
   "outputs": [
    {
     "output_type": "display_data",
     "data": {
      "text/plain": [
       "<Figure size 1008x720 with 1 Axes>"
      ],
      "image/png": "[encoded data removed]"
     },
     "metadata": {
      "needs_background": "light"
     }
    }
   ]
  },
  {
   "cell_type": "markdown",
   "source": [
    "# docx to text "
   ],
   "metadata": {
    "collapsed": false,
    "id": "yZW8WuDr8E5F"
   }
  },
  {
   "cell_type": "code",
   "execution_count": 15,
   "outputs": [],
   "source": [
    "def extract_text_from_docx(docx_path):\n",
    "    txt = docx2txt.process(docx_path)\n",
    "    if txt:\n",
    "        return txt.replace('\\t', ' ')\n",
    "    return None\n",
    "\n",
    "#text_docx = extract_text_from_docx('../data/interim/resume.docx')\n",
    "#text_docx"
   ],
   "metadata": {
    "id": "zkAS1R4q8E5G"
   }
  },
  {
   "cell_type": "markdown",
   "source": [
    "# Extract Names"
   ],
   "metadata": {
    "id": "i_6mXhE_eqP_"
   }
  },
  {
   "cell_type": "code",
   "source": [
    "def extract_person_names(text):\n",
    "    sentences = nltk.sent_tokenize(text)\n",
    "    sentences = [nltk.word_tokenize(sent) for sent in sentences]\n",
    "    sentences = [nltk.pos_tag(sent) for sent in sentences]\n",
    "    full_name = []\n",
    "\n",
    "    for item in sentences[0]:\n",
    "        # convert tuple to list\n",
    "        item_list = list(item)\n",
    "\n",
    "        # Search consecutive Proper Noun\n",
    "        if 'NNP' in item_list and (item_list[0].istitle() or str(item_list[0]).isupper()):\n",
    "            full_name.append(item_list[0])\n",
    "\n",
    "    return ' '.join(full_name[:2])\n",
    "\n",
    "data['Name'] = extract_person_names(resume_text)\n",
    "data['Name']"
   ],
   "metadata": {
    "id": "R1FBrVF5vMCf",
    "colab": {
     "base_uri": "https://localhost:8080/",
     "height": 35
    },
    "outputId": "e65cf940-f27b-49c8-8ff2-fe8b6a346dbb"
   },
   "execution_count": 16,
   "outputs": [
    {
     "output_type": "execute_result",
     "data": {
      "text/plain": [
       "'ALAN SUSA'"
      ],
      "application/vnd.google.colaboratory.intrinsic+json": {
       "type": "string"
      }
     },
     "metadata": {},
     "execution_count": 16
    }
   ]
  },
  {
   "cell_type": "code",
   "source": [
    "spacy_parser = nlp(resume_text)\n",
    "\n",
    "#for entity in spacy_parser.ents: print(f'-- Found: {entity.text} of type: {entity.label_}')\n",
    "persons = [parser.text for parser in spacy_parser.ents if parser.label_ == 'PERSON']\n",
    "PERSON_NAME = persons[0].split('\\n')[0]\n",
    "PERSON_NAME "
   ],
   "metadata": {
    "id": "tsAQ_9EFjmbW",
    "colab": {
     "base_uri": "https://localhost:8080/",
     "height": 35
    },
    "outputId": "ba4878d3-e7d9-4dfb-c1c1-ba08380c78b8"
   },
   "execution_count": 17,
   "outputs": [
    {
     "output_type": "execute_result",
     "data": {
      "text/plain": [
       "'ALAN SUSA'"
      ],
      "application/vnd.google.colaboratory.intrinsic+json": {
       "type": "string"
      }
     },
     "metadata": {},
     "execution_count": 17
    }
   ]
  },
  {
   "cell_type": "markdown",
   "source": [
    "# Extract Email"
   ],
   "metadata": {
    "id": "gxn9vOsli73o"
   }
  },
  {
   "cell_type": "code",
   "execution_count": 18,
   "outputs": [
    {
     "output_type": "execute_result",
     "data": {
      "text/plain": [
       "'alansusa@email.com'"
      ],
      "application/vnd.google.colaboratory.intrinsic+json": {
       "type": "string"
      }
     },
     "metadata": {},
     "execution_count": 18
    }
   ],
   "source": [
    "EMAIL_REG = re.compile(r'[a-z0-9\\.\\-+_]+@[a-z0-9\\.\\-+_]+\\.[a-z]+')\n",
    "EMAIL_REG = r'[\\w.+-]+@[\\w-]+\\.[\\w.-]+'\n",
    "\n",
    "def extract_emails(resume_text):\n",
    "    email = re.findall(EMAIL_REG, resume_text)\n",
    "    if email:\n",
    "        email = ''.join(email[0])\n",
    "        if resume_text.find(email) and len(email):\n",
    "            return email\n",
    "\n",
    "data['email'] = extract_emails(resume_text)\n",
    "data['email']"
   ],
   "metadata": {
    "id": "jxEvL_bk8E5S",
    "colab": {
     "base_uri": "https://localhost:8080/",
     "height": 35
    },
    "outputId": "f83dbacb-c738-4620-86be-cbf624dca546"
   }
  },
  {
   "cell_type": "markdown",
   "source": [
    "# Extract Phone Number"
   ],
   "metadata": {
    "id": "42dd3Q5OjGub"
   }
  },
  {
   "cell_type": "code",
   "execution_count": 19,
   "outputs": [
    {
     "output_type": "execute_result",
     "data": {
      "text/plain": [
       "'(123)456-7890'"
      ],
      "application/vnd.google.colaboratory.intrinsic+json": {
       "type": "string"
      }
     },
     "metadata": {},
     "execution_count": 19
    }
   ],
   "source": [
    "PHONE_REG = re.compile(r'[\\+\\(]?[1-9][0-9 .\\-\\(\\)]{8,}[0-9]')\n",
    "\n",
    "def extract_phones(resume_text):\n",
    "    phone = re.findall(PHONE_REG, resume_text)\n",
    "    if phone:\n",
    "        number = ''.join(phone[0])\n",
    "        number = number.replace(\" \", \"\")\n",
    "        if resume_text.find(number) and len(number):\n",
    "            return number\n",
    "    return None\n",
    "\n",
    "data['phone'] = extract_phones(resume_text)\n",
    "data['phone']"
   ],
   "metadata": {
    "id": "DHpeorKx8E5U",
    "colab": {
     "base_uri": "https://localhost:8080/",
     "height": 35
    },
    "outputId": "946973da-e838-42d0-bc1b-dfa323a6db30"
   }
  },
  {
   "cell_type": "markdown",
   "source": [
    "# Extract Links"
   ],
   "metadata": {
    "id": "YON_eGJdS3OM"
   }
  },
  {
   "cell_type": "code",
   "source": [
    "LINKEDON_URL_REGEX = r'(linkedin.com/in/\\S+)'\n",
    "\n",
    "def extract_linkedin(resume_text):\n",
    "    urls = re.findall(LINKEDON_URL_REGEX, resume_text)\n",
    "    if urls:\n",
    "        return list(set(urls))[0]\n",
    "    return  None\n",
    "\n",
    "data['linkedin'] = extract_linkedin(resume_text)\n",
    "data['linkedin']"
   ],
   "metadata": {
    "id": "0v8S-1NchXa_"
   },
   "execution_count": 20,
   "outputs": []
  },
  {
   "cell_type": "code",
   "execution_count": 21,
   "outputs": [
    {
     "output_type": "execute_result",
     "data": {
      "text/plain": [
       "[]"
      ]
     },
     "metadata": {},
     "execution_count": 21
    }
   ],
   "source": [
    "URL_REGEX = r\"\"\"(?i)\\b((?:https?:(?:/{1,3}|[a-z0-9%])|[a-z0-9.\\-]+[.](?:com|net|org|edu|gov|mil|aero|asia|biz|cat|coop|info|int|jobs|mobi|museum|name|post|pro|tel|travel|xxx|ac|ad|ae|af|ag|ai|al|am|an|ao|aq|ar|as|at|au|aw|ax|az|ba|bb|bd|be|bf|bg|bh|bi|bj|bm|bn|bo|br|bs|bt|bv|bw|by|bz|ca|cc|cd|cf|cg|ch|ci|ck|cl|cm|cn|co|cr|cs|cu|cv|cx|cy|cz|dd|de|dj|dk|dm|do|dz|ec|ee|eg|eh|er|es|et|eu|fi|fj|fk|fm|fo|fr|ga|gb|gd|ge|gf|gg|gh|gi|gl|gm|gn|gp|gq|gr|gs|gt|gu|gw|gy|hk|hm|hn|hr|ht|hu|id|ie|il|im|in|io|iq|ir|is|it|je|jm|jo|jp|ke|kg|kh|ki|km|kn|kp|kr|kw|ky|kz|la|lb|lc|li|lk|lr|ls|lt|lu|lv|ly|ma|mc|md|me|mg|mh|mk|ml|mm|mn|mo|mp|mq|mr|ms|mt|mu|mv|mw|mx|my|mz|na|nc|ne|nf|ng|ni|nl|no|np|nr|nu|nz|om|pa|pe|pf|pg|ph|pk|pl|pm|pn|pr|ps|pt|pw|py|qa|re|ro|rs|ru|rw|sa|sb|sc|sd|se|sg|sh|si|sj|Ja|sk|sl|sm|sn|so|sr|ss|st|su|sv|sx|sy|sz|tc|td|tf|tg|th|tj|tk|tl|tm|tn|to|tp|tr|tt|tv|tw|tz|ua|ug|uk|us|uy|uz|va|vc|ve|vg|vi|vn|vu|wf|ws|ye|yt|yu|za|zm|zw)/)(?:[^\\s()<>{}\\[\\]]+|\\([^\\s()]*?\\([^\\s()]+\\)[^\\s()]*?\\)|\\([^\\s]+?\\))+(?:\\([^\\s()]*?\\([^\\s()]+\\)[^\\s()]*?\\)|\\([^\\s]+?\\)|[^\\s`!()\\[\\]{};:'\".,<>?«»“”‘’])|(?:(?<!@)[a-z0-9]+(?:[.\\-][a-z0-9]+)*[.](?:com|net|org|edu|gov|mil|aero|asia|biz|cat|coop|info|int|jobs|mobi|museum|name|post|pro|tel|travel|xxx|ac|ad|ae|af|ag|ai|al|am|an|ao|aq|ar|as|at|au|aw|ax|az|ba|bb|bd|be|bf|bg|bh|bi|bj|bm|bn|bo|br|bs|bt|bv|bw|by|bz|ca|cc|cd|cf|cg|ch|ci|ck|cl|cm|cn|co|cr|cs|cu|cv|cx|cy|cz|dd|de|dj|dk|dm|do|dz|ec|ee|eg|eh|er|es|et|eu|fi|fj|fk|fm|fo|fr|ga|gb|gd|ge|gf|gg|gh|gi|gl|gm|gn|gp|gq|gr|gs|gt|gu|gw|gy|hk|hm|hn|hr|ht|hu|id|ie|il|im|in|io|iq|ir|is|it|je|jm|jo|jp|ke|kg|kh|ki|km|kn|kp|kr|kw|ky|kz|la|lb|lc|li|lk|lr|ls|lt|lu|lv|ly|ma|mc|md|me|mg|mh|mk|ml|mm|mn|mo|mp|mq|mr|ms|mt|mu|mv|mw|mx|my|mz|na|nc|ne|nf|ng|ni|nl|no|np|nr|nu|nz|om|pa|pe|pf|pg|ph|pk|pl|pm|pn|pr|ps|pt|pw|py|qa|re|ro|rs|ru|rw|sa|sb|sc|sd|se|sg|sh|si|sj|Ja|sk|sl|sm|sn|so|sr|ss|st|su|sv|sx|sy|sz|tc|td|tf|tg|th|tj|tk|tl|tm|tn|to|tp|tr|tt|tv|tw|tz|ua|ug|uk|us|uy|uz|va|vc|ve|vg|vi|vn|vu|wf|ws|ye|yt|yu|za|zm|zw)\\b/?(?!@)))\"\"\"\n",
    "\n",
    "def extract_links(resume_text):\n",
    "    urls = re.findall(URL_REGEX, resume_text)\n",
    "    if urls:\n",
    "        return list(set(urls))[0]\n",
    "    return  None\n",
    "\n",
    "data['links'] = extract_links(resume_text)\n",
    "data['links']"
   ],
   "metadata": {
    "id": "nAom00uw8E5I",
    "colab": {
     "base_uri": "https://localhost:8080/"
    },
    "outputId": "86f96016-bb5f-4b99-9de6-b88623d3feec"
   }
  },
  {
   "cell_type": "code",
   "source": [
    "def extract_links(resume_text):\n",
    "    extractor = URLExtract()\n",
    "    urls = extractor.find_urls(resume_text)\n",
    "    return list(set(urls)) if urls else None\n",
    "\n",
    "extract_links(resume_text)"
   ],
   "metadata": {
    "id": "LGnyXVJqWHrn"
   },
   "execution_count": 22,
   "outputs": []
  },
  {
   "cell_type": "markdown",
   "source": [
    "# Extract Sex"
   ],
   "metadata": {
    "id": "iU6FjBAMw_Nf"
   }
  },
  {
   "cell_type": "code",
   "source": [
    "def extract_gender(text):  \n",
    "    gender = re.findall(r'\\b(gentleman|man|male|female|woman|girl)\\b', resume_text) # 'fff male female')\n",
    "    if gender:\n",
    "        gender = gender[0]\n",
    "        print(gender)\n",
    "\n",
    "        gender_dict = {\"male\": [\"gentleman\", \"man\", \"male\"],\n",
    "                    \"female\": [\"female\", \"woman\", \"girl\"]}\n",
    "        gender_aux = []\n",
    "        if gender in gender_dict['male']: gender_aux.append('male')\n",
    "        elif gender in gender_dict['female']: gender_aux.append('female')\n",
    "                \n",
    "        return gender_aux[0]\n",
    "\n",
    "    else:\n",
    "        return None\n",
    "\n",
    "data['gender'] = extract_gender(resume_text)\n",
    "data['gender']"
   ],
   "metadata": {
    "id": "BHBDZs-oyGNd"
   },
   "execution_count": 23,
   "outputs": []
  },
  {
   "cell_type": "markdown",
   "source": [
    "Predict gender by first name"
   ],
   "metadata": {
    "id": "K-tCnNhfoCCG"
   }
  },
  {
   "cell_type": "code",
   "execution_count": 24,
   "outputs": [
    {
     "output_type": "execute_result",
     "data": {
      "text/plain": [
       "'male'"
      ],
      "application/vnd.google.colaboratory.intrinsic+json": {
       "type": "string"
      }
     },
     "metadata": {},
     "execution_count": 24
    }
   ],
   "source": [
    "def predict_gender(name):\n",
    "    \"\"\" Predict gender by first name \"\"\"\n",
    "    d = gender.Detector(case_sensitive=False)\n",
    "    return d.get_gender(name)\n",
    "\n",
    "gender = predict_gender(data['Name'].split(' ')[0])\n",
    "gender"
   ],
   "metadata": {
    "id": "O1EgF9Xv8E5g",
    "colab": {
     "base_uri": "https://localhost:8080/",
     "height": 35
    },
    "outputId": "7bbaf31c-5c24-4af4-e1cd-b92a9ec04535"
   }
  },
  {
   "cell_type": "markdown",
   "source": [
    "# Extract zip_code"
   ],
   "metadata": {
    "id": "o18dVn7HosdO"
   }
  },
  {
   "cell_type": "code",
   "source": [
    "ZIP_CODE_REGEX = r'\\b\\d{5}(?:[-\\s]\\d{4})?\\b'\n",
    "\n",
    "def extract_zip_code(resume_text):\n",
    "    zip = re.findall(ZIP_CODE_REGEX, resume_text)\n",
    "    return list(set(zip))[0] if zip else None\n",
    "\n",
    "data['zip_code'] = extract_zip_code(resume_text)\n",
    "data['zip_code']"
   ],
   "metadata": {
    "id": "nL8lB8Z1or8D"
   },
   "execution_count": 25,
   "outputs": []
  },
  {
   "cell_type": "markdown",
   "source": [
    "# Extract Skills"
   ],
   "metadata": {
    "id": "NULVPscnjLJ-"
   }
  },
  {
   "cell_type": "code",
   "execution_count": 26,
   "outputs": [
    {
     "output_type": "execute_result",
     "data": {
      "text/plain": [
       "['MySQL', 'Spark', 'SQL', 'Python', 'Tableau']"
      ]
     },
     "metadata": {},
     "execution_count": 26
    }
   ],
   "source": [
    "def extract_skills(input_text):\n",
    "    stop_words = set(nltk.corpus.stopwords.words('english'))\n",
    "    word_tokens = nltk.tokenize.word_tokenize(input_text)\n",
    "\n",
    "    # remove the stop words and remove the punctuation\n",
    "    filtered_tokens = [token for token in word_tokens if token not in stop_words and token.isalpha()]\n",
    "\n",
    "    # generate bigrams and trigrams (such as machine learning)\n",
    "    bigrams_trigrams = list(\n",
    "        map(' '.join, nltk.everygrams(filtered_tokens, 2, 3))\n",
    "    )\n",
    "\n",
    "    # we create a set to keep the results in.\n",
    "    found_skills = set()\n",
    "\n",
    "    # we search for each token in our skills database\n",
    "    for token in filtered_tokens:\n",
    "        if token.lower() in SKILLS_DB:\n",
    "            #print(token)\n",
    "            found_skills.add(token)\n",
    "\n",
    "    # we search for each bigram and trigram in our skills database\n",
    "    for ngram in bigrams_trigrams:\n",
    "        if ngram.lower() in SKILLS_DB:\n",
    "            #print(ngram)\n",
    "            found_skills.add(ngram)\n",
    "\n",
    "    return list(found_skills)\n",
    "\n",
    "data['skills'] = extract_skills(resume_text)\n",
    "data['skills']"
   ],
   "metadata": {
    "id": "bAt0pCbN8E5Z",
    "colab": {
     "base_uri": "https://localhost:8080/"
    },
    "outputId": "f0e32453-03de-4c99-9631-883d1df14fb5"
   }
  },
  {
   "cell_type": "markdown",
   "source": [
    "# Education"
   ],
   "metadata": {
    "collapsed": false,
    "id": "YIVjQkrD8E5b"
   }
  },
  {
   "cell_type": "code",
   "source": [
    "def extract_education(text):\n",
    "    education = {}\n",
    "\n",
    "    nlp_text = nlp(text)\n",
    "    nlp_text = [sent.text.strip() for sent in nlp_text.sents] # Sentence Tokenizer\n",
    "\n",
    "    # Extract education degree\n",
    "    for index, text in enumerate(nlp_text):\n",
    "        for t in text.split():\n",
    "            # Replace all special symbols\n",
    "            t = re.sub(r'[?|$|.|!|,]', r'', t)\n",
    "            if t.upper() in EDUCATION_DEGREES and t not in STOPWORDS:\n",
    "                #education[t] = text + nlp_text[index + 1]\n",
    "                education[t] = text\n",
    "\n",
    "    return education #list(education.keys())\n",
    "\n",
    "extract_education(resume_text)"
   ],
   "metadata": {
    "id": "oQ92QgkhtJAW",
    "colab": {
     "base_uri": "https://localhost:8080/"
    },
    "outputId": "bcc53ecf-472e-4e8d-a68c-572781fb6585"
   },
   "execution_count": 27,
   "outputs": [
    {
     "output_type": "execute_result",
     "data": {
      "text/plain": [
       "{'BA': 'ALAN SUSA\\nData Engineer\\nalansusa@email.com\\n\\nLinkedIn\\n\\n(123) 456-7890\\n\\nNew York, NY\\n\\nEDUCATION\\nB.A.\\nComputer Science\\nUniversity of Pittsburgh\\n\\nSeptember 2010 - April 2014\\n\\nPittsburgh, PA\\n\\nSKILLS\\nPython\\nETLs\\nSQL (Postgres, Redshift, MySQL)\\nNoSQL (MongoDB)\\nSpark, Kafka\\nAirﬂow\\nAWS (Athena, Lambda, S3)\\n\\nWORK EXPERIENCE\\n\\nData Engineer\\nConsumer Reports\\nMay 2018 - current\\n\\nNew York, NY\\n\\nLed the migration from Oracle to Redshift using Amazon Athena\\nand S3, resulting in an annual cost savings of $678,000 and an\\nincrease in performance of 14%\\nDesigned and implemented a real-time data pipeline to process\\nsemi-structured data by integrating 150 million raw records\\nfrom 30+ data sources using Kafka and PySpark\\nDesigned the data pipeline architecture for a new product that\\nquickly scaled from 0 to 125,000 daily active users\\nStudied and revamped data dictionaries to include a more\\nrobust history for developing consistency across domain\\n\\nData Engineer\\nGuardian Life Insurance Company\\n\\nAugust 2016 -'}"
      ]
     },
     "metadata": {},
     "execution_count": 27
    }
   ]
  },
  {
   "cell_type": "code",
   "source": [
    "def extract_education(text):\n",
    "    education = {}\n",
    "\n",
    "    nlp_text = nlp(text)\n",
    "    nlp_text = [sent.text.strip() for sent in nlp_text.sents] # Sentence Tokenizer\n",
    "    # Splitting on the basis of newlines\n",
    "    text = [el.strip() for el in text.split(\"\\n\") if len(el) > 0]   \n",
    "    # Tokenize the individual lines\n",
    "    text = [nltk.word_tokenize(el) for el in text]    \n",
    "\n",
    "    # Extract education degree\n",
    "    for index, text in enumerate(text):\n",
    "        for t in text:\n",
    "            t = re.sub(r'[?|$|.|!|,]', r'', t)\n",
    "            # Replace all special symbols\n",
    "            if t.upper() in EDUCATION_DEGREES and t not in STOPWORDS:\n",
    "                text = ' '.join(text)\n",
    "                text = re.sub(r'[?|$|.|!|,]', r'', text)\n",
    "                education[t] = text\n",
    "\n",
    "    return education #list(education.keys())\n",
    "\n",
    "data['education'] = extract_education(resume_text)\n",
    "data['education']"
   ],
   "metadata": {
    "id": "pK2yzP4op5Wq",
    "colab": {
     "base_uri": "https://localhost:8080/"
    },
    "outputId": "b22302ba-91be-4052-aa99-d5a2aaef71e0"
   },
   "execution_count": 28,
   "outputs": [
    {
     "output_type": "execute_result",
     "data": {
      "text/plain": [
       "{'BA': 'BA '}"
      ]
     },
     "metadata": {},
     "execution_count": 28
    }
   ]
  },
  {
   "cell_type": "markdown",
   "source": [
    "# Extract Experience"
   ],
   "metadata": {
    "id": "htJ4rXF25dEq"
   }
  },
  {
   "cell_type": "code",
   "execution_count": 29,
   "outputs": [],
   "source": [
    "from nltk.stem import WordNetLemmatizer\n",
    "\n",
    "def extract_experience(resume_text):\n",
    "    '''\n",
    "    Helper function to extract experience from resume text\n",
    "    :param resume_text: Plain resume text\n",
    "    :return: list of experience\n",
    "    '''\n",
    "    wordnet_lemmatizer = WordNetLemmatizer()\n",
    "    stop_words = set(stopwords.words('english'))\n",
    "\n",
    "    # word tokenization \n",
    "    word_tokens = nltk.word_tokenize(resume_text)\n",
    "\n",
    "    # remove stop words and lemmatize  \n",
    "    filtered_sentence = [w for w in word_tokens if not w in stop_words and wordnet_lemmatizer.lemmatize(w) not in stop_words] \n",
    "    sent = nltk.pos_tag(filtered_sentence)\n",
    "\n",
    "    # parse regex\n",
    "    cp = nltk.RegexpParser('P: {<NNP>+}')\n",
    "    cs = cp.parse(sent)\n",
    "    \n",
    "    # for i in cs.subtrees(filter=lambda x: x.label() == 'P'):\n",
    "    #     print(i)\n",
    "    \n",
    "    test = []\n",
    "    \n",
    "    for vp in list(cs.subtrees(filter=lambda x: x.label()=='P')):\n",
    "        test.append(\" \".join([i[0] for i in vp.leaves() if len(vp.leaves()) >= 2]))\n",
    "\n",
    "    # Search the word 'experience' in the chunk and then print out the text after it\n",
    "    x = [x[x.lower().index('experience') + 10:] for i, x in enumerate(test) if x and 'experience' in x.lower()]\n",
    "    return \n",
    "\n",
    "EXPERIENCES = extract_experience(resume_text)"
   ],
   "metadata": {
    "id": "RMrteWG98E5h"
   }
  },
  {
   "cell_type": "markdown",
   "source": [
    "# Pipeline"
   ],
   "metadata": {
    "id": "yhR9b8g8wh9j"
   }
  },
  {
   "cell_type": "code",
   "source": [
    "data"
   ],
   "metadata": {
    "id": "stT9wS2kE_DW",
    "colab": {
     "base_uri": "https://localhost:8080/"
    },
    "outputId": "107efe0a-bdff-4a1b-93f7-e85128050ba2"
   },
   "execution_count": 30,
   "outputs": [
    {
     "output_type": "execute_result",
     "data": {
      "text/plain": [
       "{'Name': 'ALAN SUSA',\n",
       " 'email': 'alansusa@email.com',\n",
       " 'phone': '(123)456-7890',\n",
       " 'linkedin': None,\n",
       " 'links': [],\n",
       " 'gender': None,\n",
       " 'zip_code': None,\n",
       " 'skills': ['MySQL', 'Spark', 'SQL', 'Python', 'Tableau'],\n",
       " 'education': {'BA': 'BA '}}"
      ]
     },
     "metadata": {},
     "execution_count": 30
    }
   ]
  },
  {
   "cell_type": "code",
   "execution_count": 31,
   "outputs": [
    {
     "output_type": "execute_result",
     "data": {
      "text/plain": [
       "{'Name': 'ALAN SUSA Data',\n",
       " 'Email': 'alansusa@email.com',\n",
       " 'Phone': '(123)456-7890',\n",
       " 'Linkedin': None,\n",
       " 'Links': [],\n",
       " 'Gender': None,\n",
       " 'Zip Code': None,\n",
       " 'ٍSkills': ['MySQL', 'Spark', 'SQL', 'Python', 'Tableau'],\n",
       " 'Education': {'BA': 'BA '}}"
      ]
     },
     "metadata": {},
     "execution_count": 31
    }
   ],
   "source": [
    "class ResumeParser(object):\n",
    "    def __init__(self, path=''):\n",
    "        self.path = path\n",
    "        self.reseme_text = None\n",
    "\n",
    "    @property\n",
    "    def parse(self):\n",
    "        file_extension = os.path.splitext(PDF_PATH)[1]\n",
    "\n",
    "        if file_extension == '.docx':\n",
    "            self.reseme_text = self.extract_text_from_docx()\n",
    "        elif file_extension == '.pdf':\n",
    "            self.reseme_text = self.extract_text_from_pdf()\n",
    "        else:\n",
    "            print('pdf or docx file')\n",
    "\n",
    "        return {\n",
    "            'Name': self.extract_name,\n",
    "            'Email': self.extract_emails,\n",
    "            'Phone': self.extract_phones,\n",
    "            'Linkedin': self.extract_linkedin,\n",
    "            'Links': self.extract_links,\n",
    "            'Gender': self.extract_gender,\n",
    "            'Zip Code': self.extract_zip_code,\n",
    "            'ٍSkills': self.extract_skills,\n",
    "            'Education': self.extract_education\n",
    "        }\n",
    "\n",
    "    def extract_text_from_docx(self):\n",
    "        txt = docx2txt.process(self.path)\n",
    "        if txt:\n",
    "            return txt.replace('\\t', ' ')\n",
    "        return None\n",
    "        \n",
    "    def extract_text_from_pdf(self):\n",
    "        return extract_text(self.path)\n",
    "        \n",
    "    @property\n",
    "    def extract_name(self):\n",
    "        sentences = nltk.sent_tokenize(self.reseme_text)\n",
    "        sentences = [nltk.word_tokenize(sent) for sent in sentences]\n",
    "        sentences = [nltk.pos_tag(sent) for sent in sentences]\n",
    "        full_name = []\n",
    "\n",
    "        for item in sentences[0]:\n",
    "            # convert tuple to list\n",
    "            item_list = list(item)\n",
    "\n",
    "            # Search consecutive Proper Noun\n",
    "            if 'NNP' in item_list and (item_list[0].istitle() or str(item_list[0]).isupper()):\n",
    "                full_name.append(item_list[0])\n",
    "\n",
    "        return ' '.join(full_name[:3])\n",
    "    @property\n",
    "    def extract_emails(self):\n",
    "        email = re.findall(EMAIL_REG, self.reseme_text)\n",
    "        if email:\n",
    "            email = ''.join(email[0])\n",
    "            if resume_text.find(email) and len(email):\n",
    "                return email\n",
    "    @property\n",
    "    def extract_phones(self):\n",
    "        phone = re.findall(PHONE_REG, self.reseme_text)\n",
    "        if phone:\n",
    "            number = ''.join(phone[0])\n",
    "            number = number.replace(\" \", \"\")\n",
    "            if self.reseme_text.find(number) and len(number):\n",
    "                return number\n",
    "        return None\n",
    "\n",
    "    @property\n",
    "    def extract_linkedin(self):\n",
    "        urls = re.findall(LINKEDON_URL_REGEX, self.reseme_text)\n",
    "        return list(set(urls))[0] if urls else None\n",
    "\n",
    "    @property\n",
    "    def extract_links(self):\n",
    "        urls = re.findall(URL_REGEX, self.reseme_text)\n",
    "        return list(set(urls))\n",
    "\n",
    "    @property\n",
    "    def extract_gender(self):  \n",
    "        gender = re.findall(r'\\b(gentleman|man|male|female|woman|girl)\\b', self.reseme_text) # 'fff male female')\n",
    "        if gender:\n",
    "            gender = gender[0]\n",
    "            print(gender)\n",
    "\n",
    "            gender_dict = {\"male\": [\"gentleman\", \"man\", \"male\"],\n",
    "                        \"female\": [\"female\", \"woman\", \"girl\"]}\n",
    "            gender_aux = []\n",
    "            if gender in gender_dict['male']: gender_aux.append('male')\n",
    "            elif gender in gender_dict['female']: gender_aux.append('female')\n",
    "                    \n",
    "            return gender_aux[0]\n",
    "\n",
    "        else:\n",
    "            return None\n",
    "\n",
    "    @property\n",
    "    def extract_zip_code(self):\n",
    "        zip = re.findall(ZIP_CODE_REGEX, self.reseme_text)\n",
    "        return list(set(zip))[0] if zip else None\n",
    "\n",
    "    @property\n",
    "    def extract_skills(self):\n",
    "        stop_words = set(nltk.corpus.stopwords.words('english'))\n",
    "        word_tokens = nltk.tokenize.word_tokenize(self.reseme_text)\n",
    "\n",
    "        # remove the stop words and remove the punctuation\n",
    "        filtered_tokens = [token for token in word_tokens if token not in stop_words and token.isalpha()]\n",
    "\n",
    "        # generate bigrams and trigrams (such as machine learning)\n",
    "        bigrams_trigrams = list(\n",
    "            map(' '.join, nltk.everygrams(filtered_tokens, 2, 3))\n",
    "        )\n",
    "\n",
    "        # we create a set to keep the results in.\n",
    "        found_skills = set()\n",
    "\n",
    "        # we search for each token in our skills database\n",
    "        for token in filtered_tokens:\n",
    "            if token.lower() in SKILLS_DB:\n",
    "                #print(token)\n",
    "                found_skills.add(token)\n",
    "\n",
    "        # we search for each bigram and trigram in our skills database\n",
    "        for ngram in bigrams_trigrams:\n",
    "            if ngram.lower() in SKILLS_DB:\n",
    "                #print(ngram)\n",
    "                found_skills.add(ngram)\n",
    "\n",
    "        return list(found_skills)\n",
    "\n",
    "    @property\n",
    "    def extract_education(self):\n",
    "        education = {}\n",
    "        # Splitting on the basis of newlines\n",
    "        text = [el.strip() for el in self.reseme_text.split(\"\\n\") if len(el) > 0]   \n",
    "        # Tokenize the individual lines\n",
    "        text = [nltk.word_tokenize(el) for el in text]    \n",
    "        # Extract education degree\n",
    "        for index, text in enumerate(text):\n",
    "            for t in text:\n",
    "                t = re.sub(r'[?|$|.|!|,]', r'', t)\n",
    "                # Replace all special symbols\n",
    "                if t.upper() in EDUCATION_DEGREES and t not in STOPWORDS:\n",
    "                    text = ' '.join(text)\n",
    "                    text = re.sub(r'[?|$|.|!|,]', r'', text)\n",
    "                    education[t] = text\n",
    "        return education \n",
    "\n",
    "data = ResumeParser(PDF_PATH)\n",
    "data.parse"
   ],
   "metadata": {
    "id": "hW-9YZ0B8E5k",
    "colab": {
     "base_uri": "https://localhost:8080/"
    },
    "outputId": "da488fbb-2d65-4269-ccaa-854c7024c00d"
   }
  },
  {
   "cell_type": "code",
   "source": [
    "## try diffrent resemes\n",
    "import glob\n",
    "\n",
    "for file_path in glob.glob('*.pdf'):\n",
    "    data = ResumeParser(file_path)\n",
    "    print( data.parse )"
   ],
   "metadata": {
    "id": "ACB_xP-wuDT6",
    "colab": {
     "base_uri": "https://localhost:8080/"
    },
    "outputId": "e3d69759-b46c-4623-ec30-561583435b34"
   },
   "execution_count": 32,
   "outputs": [
    {
     "output_type": "stream",
     "name": "stdout",
     "text": [
      "{'Name': 'J U DA', 'Email': 'jberger@email.com', 'Phone': '(123)456-7890', 'Linkedin': 'linkedin.com/in/judah-berg', 'Links': ['linkedin.com/in/judah-berg'], 'Gender': None, 'Zip Code': None, 'ٍSkills': ['R', 'Python', 'Tableau', 'SQL'], 'Education': {'BS': 'BS '}}\n",
      "{'Name': 'STEFAN BUCHHOLZ Data', 'Email': 'stefan.buchholz@email.com', 'Phone': '(123)456-7890', 'Linkedin': None, 'Links': [], 'Gender': None, 'Zip Code': None, 'ٍSkills': ['R', 'TensorFlow', 'Numpy', 'SQL', 'Python'], 'Education': {}}\n",
      "{'Name': 'BRANDON CONNOR Data', 'Email': 'brandonconnor@email.com', 'Phone': '(123)456-7890', 'Linkedin': None, 'Links': [], 'Gender': None, 'Zip Code': None, 'ٍSkills': ['Tableau', 'Python', 'Spark', 'SQL'], 'Education': {'BS': 'BS '}}\n",
      "{'Name': 'Josephine Arriaga Senior', 'Email': 'josephinear@email.com', 'Phone': '(123)456-7890', 'Linkedin': None, 'Links': [], 'Gender': None, 'Zip Code': None, 'ٍSkills': ['MySQL', 'SQL', 'Java', 'Python', 'Tableau'], 'Education': {}}\n",
      "{'Name': 'Kassandra Moriarte Tracy', 'Email': 'kasmo@email.com', 'Phone': '(123)456-7890', 'Linkedin': 'linkedin.com/in/kas-mo', 'Links': ['github.com/kas-mo', 'linkedin.com/in/kas-mo'], 'Gender': None, 'Zip Code': None, 'ٍSkills': ['Python', 'Tableau', 'SQL', 'C'], 'Education': {'BS': 'Stanislaus State University - BS  Computer Engineering'}}\n",
      "{'Name': 'JUSTINE DEBOWSKI Data', 'Email': 'justinedeb@email.com', 'Phone': '(123)456-7890', 'Linkedin': None, 'Links': ['twitter.com'], 'Gender': None, 'Zip Code': None, 'ٍSkills': ['Hadoop', 'MySQL', 'Django', 'Python', 'Tableau'], 'Education': {}}\n",
      "{'Name': 'VIVIANNE ARLINGTON Data', 'Email': 'var@email.com', 'Phone': '(123)456-7890', 'Linkedin': 'linkedin.com/in/viv-arl', 'Links': ['linkedin.com/in/viv-arl', 'twitter.com/viv-arl'], 'Gender': None, 'Zip Code': None, 'ٍSkills': ['Hadoop', 'SQL', 'python', 'Python', 'Tableau'], 'Education': {'BS': 'BS'}}\n",
      "{'Name': 'CA R LA', 'Email': 'carlaperez@email.com', 'Phone': '(123)456-7890', 'Linkedin': None, 'Links': [], 'Gender': None, 'Zip Code': None, 'ٍSkills': ['R', 'MySQL', 'Spark', 'SQL', 'Python'], 'Education': {'BS': 'BS '}}\n",
      "{'Name': 'DAV D K', 'Email': 'david.keelan@email.co', 'Phone': '(123)456-7890', 'Linkedin': None, 'Links': ['facebook.com'], 'Gender': None, 'Zip Code': None, 'ٍSkills': ['Hadoop', 'Spark', 'SQL', 'Java', 'Python'], 'Education': {'As': 'Computer Science graduate with a passion for data  As a proven'}}\n",
      "{'Name': 'Bozeman MT SKILLS', 'Email': 't.winters@email.com', 'Phone': '(123)456-7890', 'Linkedin': None, 'Links': [], 'Gender': None, 'Zip Code': None, 'ٍSkills': ['Python', 'Scala', 'SQL', 'Java'], 'Education': {}}\n",
      "{'Name': 'Montgomery Sills Stockton', 'Email': 'CNun@email.com', 'Phone': '(123)456-7890', 'Linkedin': None, 'Links': [], 'Gender': None, 'Zip Code': None, 'ٍSkills': ['Python', 'SQL', 'Java'], 'Education': {}}\n",
      "{'Name': 'ALAN SUSA Data', 'Email': 'alansusa@email.com', 'Phone': '(123)456-7890', 'Linkedin': None, 'Links': [], 'Gender': None, 'Zip Code': None, 'ٍSkills': ['MySQL', 'Spark', 'SQL', 'Python', 'Tableau'], 'Education': {'BA': 'BA '}}\n",
      "{'Name': 'Portland ME Daniel', 'Email': 'dtrevino@email.com', 'Phone': '(123)456-7890', 'Linkedin': None, 'Links': [], 'Gender': None, 'Zip Code': None, 'ٍSkills': ['MySQL', 'Spark', 'SQL', 'Python', 'AI'], 'Education': {'BS': 'University of Southern Maine - BS  Computer Science'}}\n"
     ]
    }
   ]
  }
 ],
 "metadata": {
  "kernelspec": {
   "display_name": "Python 3 (ipykernel)",
   "language": "python",
   "name": "python3"
  },
  "language_info": {
   "codemirror_mode": {
    "name": "ipython",
    "version": 3
   },
   "file_extension": ".py",
   "mimetype": "text/x-python",
   "name": "python",
   "nbconvert_exporter": "python",
   "pygments_lexer": "ipython3",
   "version": "3.10.5"
  },
  "vscode": {
   "interpreter": {
    "hash": "6af6f06124eab36e2d76ea4d70178b9eed071936973e9f827296eb6458a860ce"
   }
  },
  "colab": {
   "provenance": [],
   "collapsed_sections": []
  }
 },
 "nbformat": 4,
 "nbformat_minor": 0
}
